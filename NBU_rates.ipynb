{
  "nbformat": 4,
  "nbformat_minor": 0,
  "metadata": {
    "colab": {
      "provenance": [],
      "authorship_tag": "ABX9TyNoDFTu196jRa3o5NsTI0bX",
      "include_colab_link": true
    },
    "kernelspec": {
      "name": "python3",
      "display_name": "Python 3"
    },
    "language_info": {
      "name": "python"
    }
  },
  "cells": [
    {
      "cell_type": "markdown",
      "metadata": {
        "id": "view-in-github",
        "colab_type": "text"
      },
      "source": [
        "<a href=\"https://colab.research.google.com/github/BeckMarquez/Ukrenergo/blob/main/NBU_rates.ipynb\" target=\"_parent\"><img src=\"https://colab.research.google.com/assets/colab-badge.svg\" alt=\"Open In Colab\"/></a>"
      ]
    },
    {
      "cell_type": "code",
      "execution_count": null,
      "metadata": {
        "id": "iaoco5Hnbu54"
      },
      "outputs": [],
      "source": [
        "import urllib.request, json\n",
        "import pandas as pd"
      ]
    },
    {
      "cell_type": "code",
      "source": [
        "# Параметри запиту\n",
        "# Дата початку періоду у форматі YYYYMMDD без роздільників\n",
        "start='20240601'\n",
        "\n",
        "# Дата завершення періоду у форматі YYYYMMDD без роздільників\n",
        "end='20240630'\n",
        "\n",
        "# Смвольний код валюти (не обов’язковий параметр), якщо цей параметр не заначено, то у результаті буде вибірка за період по всім валютам\n",
        "valcode='eur'\n",
        "\n",
        "# Назва поля по якому виконується сортування (exchangedate/r030/сс/rate)\n",
        "sort='exchangedate'\n",
        "\n",
        "# Метод сортування (desc – за спаданням, asc – за зростанням)\n",
        "order='asc'\n",
        "\n",
        "# Формат надання інформації, якщо цей параметр не зазначено, то XML\n",
        "format='json'"
      ],
      "metadata": {
        "id": "-HuyoGH6ddDM"
      },
      "execution_count": null,
      "outputs": []
    },
    {
      "cell_type": "code",
      "source": [
        "# Приклад URl\n",
        "# url=\"https://bank.gov.ua/NBU_Exchange/exchange_site?start=yyyymmdd&end=%20yyyymmdd&valcode=usd&sort=exchangedate&order=desc&json\"\n",
        "\n",
        "# Формування URL на основі параметрів запиту\n",
        "url='https://bank.gov.ua/NBU_Exchange/exchange_site?start={0}&end=%20{1}&valcode={2}&sort={3}&order={4}&{5}'.format(start, end, valcode, sort, order, format)"
      ],
      "metadata": {
        "id": "xieuME8ab9q9"
      },
      "execution_count": null,
      "outputs": []
    },
    {
      "cell_type": "code",
      "source": [
        "with urllib.request.urlopen(url) as url:\n",
        "    data = json.load(url)"
      ],
      "metadata": {
        "id": "PJpx0kGzb3hP"
      },
      "execution_count": null,
      "outputs": []
    },
    {
      "cell_type": "code",
      "source": [
        "df = pd.DataFrame(data)"
      ],
      "metadata": {
        "id": "JEUs6XzOiFWh"
      },
      "execution_count": null,
      "outputs": []
    },
    {
      "cell_type": "code",
      "source": [
        "df = df.drop(['txt', 'enname', 'units', 'rate_per_unit', 'group'], axis=1)\n",
        "df['r030'] = df['r030'].astype(str)\n",
        "df.set_index('exchangedate', inplace=True)"
      ],
      "metadata": {
        "collapsed": true,
        "id": "KgCHfvmjiqZ4"
      },
      "execution_count": null,
      "outputs": []
    },
    {
      "cell_type": "code",
      "source": [
        "df = pd.concat([df, df.mean(numeric_only=True).to_frame('Середній курс ЄВРО - гривня').T]).fillna('')\n",
        "df = pd.concat([df, 1/df.mean(numeric_only=True).to_frame('Середній курс гривня - ЄВРО').T]).fillna('')"
      ],
      "metadata": {
        "id": "RDHh7j6GpUbt"
      },
      "execution_count": null,
      "outputs": []
    },
    {
      "cell_type": "code",
      "source": [
        "df.to_excel('output_{0}_{1}_{2}.xlsx'.format(start, end, valcode), index_label='Дата', header=['Код валюти', 'Назва валюти', 'Курс', 'Дата встановлення'])"
      ],
      "metadata": {
        "id": "rko63AeukFSA"
      },
      "execution_count": null,
      "outputs": []
    }
  ]
}